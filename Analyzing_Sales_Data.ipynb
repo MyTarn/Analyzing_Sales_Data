{
  "cells":[
    {
      "cell_type":"markdown",
      "source":[
        "# Project"
      ],
      "attachments":{
        
      },
      "metadata":{
        "jupyter":{
          "source_hidden":false,
          "outputs_hidden":false
        },
        "datalore":{
          "sheet_delimiter":true
        }
      }
    },
    {
      "cell_type":"markdown",
      "source":[
        "# Final Project - Analyzing Sales Data"
      ],
      "attachments":{
        
      },
      "metadata":{
        "jupyter":{
          "source_hidden":false,
          "outputs_hidden":false
        },
        "datalore":{
          "type":"MD",
          "sheet_delimiter":false
        }
      }
    },
    {
      "cell_type":"code",
      "source":[
        "# import data\n",
        "import pandas as pd\n",
        "df = pd.read_csv(\"sample-store.csv\")"
      ],
      "execution_count":94,
      "outputs":[
        
      ],
      "metadata":{
        "jupyter":{
          "source_hidden":false,
          "outputs_hidden":false
        },
        "datalore":{
          "type":"CODE",
          "sheet_delimiter":false
        }
      }
    },
    {
      "cell_type":"code",
      "source":[
        "# preview top 5 rows\n",
        "df.head()"
      ],
      "execution_count":2,
      "outputs":[
        {
          "data":{
            "text\/html":[
              "<div>\n",
              "<style scoped>\n",
              "    .dataframe tbody tr th:only-of-type {\n",
              "        vertical-align: middle;\n",
              "    }\n",
              "\n",
              "    .dataframe tbody tr th {\n",
              "        vertical-align: top;\n",
              "    }\n",
              "\n",
              "    .dataframe thead th {\n",
              "        text-align: right;\n",
              "    }\n",
              "<\/style>\n",
              "<table border=\"1\" class=\"dataframe\">\n",
              "  <thead>\n",
              "    <tr style=\"text-align: right;\">\n",
              "      <th><\/th>\n",
              "      <th>Row ID<\/th>\n",
              "      <th>Order ID<\/th>\n",
              "      <th>Order Date<\/th>\n",
              "      <th>Ship Date<\/th>\n",
              "      <th>Ship Mode<\/th>\n",
              "      <th>Customer ID<\/th>\n",
              "      <th>Customer Name<\/th>\n",
              "      <th>Segment<\/th>\n",
              "      <th>Country\/Region<\/th>\n",
              "      <th>City<\/th>\n",
              "      <th>...<\/th>\n",
              "      <th>Postal Code<\/th>\n",
              "      <th>Region<\/th>\n",
              "      <th>Product ID<\/th>\n",
              "      <th>Category<\/th>\n",
              "      <th>Sub-Category<\/th>\n",
              "      <th>Product Name<\/th>\n",
              "      <th>Sales<\/th>\n",
              "      <th>Quantity<\/th>\n",
              "      <th>Discount<\/th>\n",
              "      <th>Profit<\/th>\n",
              "    <\/tr>\n",
              "  <\/thead>\n",
              "  <tbody>\n",
              "    <tr>\n",
              "      <th>0<\/th>\n",
              "      <td>1<\/td>\n",
              "      <td>CA-2019-152156<\/td>\n",
              "      <td>11\/8\/2019<\/td>\n",
              "      <td>11\/11\/2019<\/td>\n",
              "      <td>Second Class<\/td>\n",
              "      <td>CG-12520<\/td>\n",
              "      <td>Claire Gute<\/td>\n",
              "      <td>Consumer<\/td>\n",
              "      <td>United States<\/td>\n",
              "      <td>Henderson<\/td>\n",
              "      <td>...<\/td>\n",
              "      <td>42420.0<\/td>\n",
              "      <td>South<\/td>\n",
              "      <td>FUR-BO-10001798<\/td>\n",
              "      <td>Furniture<\/td>\n",
              "      <td>Bookcases<\/td>\n",
              "      <td>Bush Somerset Collection Bookcase<\/td>\n",
              "      <td>261.9600<\/td>\n",
              "      <td>2<\/td>\n",
              "      <td>0.00<\/td>\n",
              "      <td>41.9136<\/td>\n",
              "    <\/tr>\n",
              "    <tr>\n",
              "      <th>1<\/th>\n",
              "      <td>2<\/td>\n",
              "      <td>CA-2019-152156<\/td>\n",
              "      <td>11\/8\/2019<\/td>\n",
              "      <td>11\/11\/2019<\/td>\n",
              "      <td>Second Class<\/td>\n",
              "      <td>CG-12520<\/td>\n",
              "      <td>Claire Gute<\/td>\n",
              "      <td>Consumer<\/td>\n",
              "      <td>United States<\/td>\n",
              "      <td>Henderson<\/td>\n",
              "      <td>...<\/td>\n",
              "      <td>42420.0<\/td>\n",
              "      <td>South<\/td>\n",
              "      <td>FUR-CH-10000454<\/td>\n",
              "      <td>Furniture<\/td>\n",
              "      <td>Chairs<\/td>\n",
              "      <td>Hon Deluxe Fabric Upholstered Stacking Chairs,...<\/td>\n",
              "      <td>731.9400<\/td>\n",
              "      <td>3<\/td>\n",
              "      <td>0.00<\/td>\n",
              "      <td>219.5820<\/td>\n",
              "    <\/tr>\n",
              "    <tr>\n",
              "      <th>2<\/th>\n",
              "      <td>3<\/td>\n",
              "      <td>CA-2019-138688<\/td>\n",
              "      <td>6\/12\/2019<\/td>\n",
              "      <td>6\/16\/2019<\/td>\n",
              "      <td>Second Class<\/td>\n",
              "      <td>DV-13045<\/td>\n",
              "      <td>Darrin Van Huff<\/td>\n",
              "      <td>Corporate<\/td>\n",
              "      <td>United States<\/td>\n",
              "      <td>Los Angeles<\/td>\n",
              "      <td>...<\/td>\n",
              "      <td>90036.0<\/td>\n",
              "      <td>West<\/td>\n",
              "      <td>OFF-LA-10000240<\/td>\n",
              "      <td>Office Supplies<\/td>\n",
              "      <td>Labels<\/td>\n",
              "      <td>Self-Adhesive Address Labels for Typewriters b...<\/td>\n",
              "      <td>14.6200<\/td>\n",
              "      <td>2<\/td>\n",
              "      <td>0.00<\/td>\n",
              "      <td>6.8714<\/td>\n",
              "    <\/tr>\n",
              "    <tr>\n",
              "      <th>3<\/th>\n",
              "      <td>4<\/td>\n",
              "      <td>US-2018-108966<\/td>\n",
              "      <td>10\/11\/2018<\/td>\n",
              "      <td>10\/18\/2018<\/td>\n",
              "      <td>Standard Class<\/td>\n",
              "      <td>SO-20335<\/td>\n",
              "      <td>Sean O'Donnell<\/td>\n",
              "      <td>Consumer<\/td>\n",
              "      <td>United States<\/td>\n",
              "      <td>Fort Lauderdale<\/td>\n",
              "      <td>...<\/td>\n",
              "      <td>33311.0<\/td>\n",
              "      <td>South<\/td>\n",
              "      <td>FUR-TA-10000577<\/td>\n",
              "      <td>Furniture<\/td>\n",
              "      <td>Tables<\/td>\n",
              "      <td>Bretford CR4500 Series Slim Rectangular Table<\/td>\n",
              "      <td>957.5775<\/td>\n",
              "      <td>5<\/td>\n",
              "      <td>0.45<\/td>\n",
              "      <td>-383.0310<\/td>\n",
              "    <\/tr>\n",
              "    <tr>\n",
              "      <th>4<\/th>\n",
              "      <td>5<\/td>\n",
              "      <td>US-2018-108966<\/td>\n",
              "      <td>10\/11\/2018<\/td>\n",
              "      <td>10\/18\/2018<\/td>\n",
              "      <td>Standard Class<\/td>\n",
              "      <td>SO-20335<\/td>\n",
              "      <td>Sean O'Donnell<\/td>\n",
              "      <td>Consumer<\/td>\n",
              "      <td>United States<\/td>\n",
              "      <td>Fort Lauderdale<\/td>\n",
              "      <td>...<\/td>\n",
              "      <td>33311.0<\/td>\n",
              "      <td>South<\/td>\n",
              "      <td>OFF-ST-10000760<\/td>\n",
              "      <td>Office Supplies<\/td>\n",
              "      <td>Storage<\/td>\n",
              "      <td>Eldon Fold 'N Roll Cart System<\/td>\n",
              "      <td>22.3680<\/td>\n",
              "      <td>2<\/td>\n",
              "      <td>0.20<\/td>\n",
              "      <td>2.5164<\/td>\n",
              "    <\/tr>\n",
              "  <\/tbody>\n",
              "<\/table>\n",
              "<p>5 rows × 21 columns<\/p>\n",
              "<\/div>"
            ]
          },
          "metadata":{
            
          },
          "output_type":"display_data"
        }
      ],
      "metadata":{
        "jupyter":{
          "source_hidden":false,
          "outputs_hidden":false
        },
        "datalore":{
          "type":"CODE",
          "sheet_delimiter":false
        }
      }
    },
    {
      "cell_type":"code",
      "source":[
        "# shape of dataframe\n",
        "df.shape"
      ],
      "execution_count":3,
      "outputs":[
        {
          "data":{
            "text\/plain":[
              "(9994, 21)"
            ]
          },
          "metadata":{
            
          },
          "output_type":"display_data"
        }
      ],
      "metadata":{
        "jupyter":{
          "source_hidden":false,
          "outputs_hidden":false
        },
        "datalore":{
          "type":"CODE",
          "sheet_delimiter":false
        }
      }
    },
    {
      "cell_type":"code",
      "source":[
        "# see data frame information using .info()\n",
        "df.info()"
      ],
      "execution_count":4,
      "outputs":[
        {
          "name":"stdout",
          "text":[
            "<class 'pandas.core.frame.DataFrame'>\n",
            "RangeIndex: 9994 entries, 0 to 9993\n",
            "Data columns (total 21 columns):\n",
            " #   Column          Non-Null Count  Dtype  \n",
            "---  ------          --------------  -----  \n",
            " 0   Row ID          9994 non-null   int64  \n",
            " 1   Order ID        9994 non-null   object \n",
            " 2   Order Date      9994 non-null   object \n",
            " 3   Ship Date       9994 non-null   object \n",
            " 4   Ship Mode       9994 non-null   object \n",
            " 5   Customer ID     9994 non-null   object \n",
            " 6   Customer Name   9994 non-null   object \n",
            " 7   Segment         9994 non-null   object \n",
            " 8   Country\/Region  9994 non-null   object \n",
            " 9   City            9994 non-null   object \n",
            " 10  State           9994 non-null   object \n",
            " 11  Postal Code     9983 non-null   float64\n",
            " 12  Region          9994 non-null   object \n",
            " 13  Product ID      9994 non-null   object \n",
            " 14  Category        9994 non-null   object \n",
            " 15  Sub-Category    9994 non-null   object \n",
            " 16  Product Name    9994 non-null   object \n",
            " 17  Sales           9994 non-null   float64\n",
            " 18  Quantity        9994 non-null   int64  \n",
            " 19  Discount        9994 non-null   float64\n",
            " 20  Profit          9994 non-null   float64\n",
            "dtypes: float64(4), int64(2), object(15)\n",
            "memory usage: 1.6+ MB\n"
          ],
          "output_type":"stream"
        }
      ],
      "metadata":{
        "jupyter":{
          "source_hidden":false,
          "outputs_hidden":false
        },
        "datalore":{
          "type":"CODE",
          "sheet_delimiter":false
        }
      }
    },
    {
      "cell_type":"markdown",
      "source":[
        "We can use `pd.to_datetime()` function to convert columns 'Order Date' and 'Ship Date' to datetime."
      ],
      "attachments":{
        
      },
      "metadata":{
        "jupyter":{
          "source_hidden":false,
          "outputs_hidden":false
        },
        "datalore":{
          "type":"MD",
          "sheet_delimiter":false
        }
      }
    },
    {
      "cell_type":"code",
      "source":[
        "# example of pd.to_datetime() function\n",
        "# pd.to_datetime(df['Order Date'].head(), format='%m\/%d\/%Y')"
      ],
      "execution_count":5,
      "outputs":[
        
      ],
      "metadata":{
        "jupyter":{
          "source_hidden":false,
          "outputs_hidden":false
        },
        "datalore":{
          "type":"CODE",
          "sheet_delimiter":false
        }
      }
    },
    {
      "cell_type":"code",
      "source":[
        "# TODO - convert order date and ship date to datetime in the original dataframe\n",
        "\n",
        "# Order Date\n",
        "df['Order Date'] = pd.to_datetime(df['Order Date'], format='%m\/%d\/%Y')\n",
        "\n",
        "# Ship Date\n",
        "df['Ship Date'] = pd.to_datetime(df['Ship Date'], format='%m\/%d\/%Y')"
      ],
      "execution_count":6,
      "outputs":[
        
      ],
      "metadata":{
        "jupyter":{
          "source_hidden":false,
          "outputs_hidden":false
        },
        "datalore":{
          "type":"CODE",
          "sheet_delimiter":false
        }
      }
    },
    {
      "cell_type":"code",
      "source":[
        "df.head(7)"
      ],
      "execution_count":11,
      "outputs":[
        {
          "data":{
            "text\/html":[
              "<div>\n",
              "<style scoped>\n",
              "    .dataframe tbody tr th:only-of-type {\n",
              "        vertical-align: middle;\n",
              "    }\n",
              "\n",
              "    .dataframe tbody tr th {\n",
              "        vertical-align: top;\n",
              "    }\n",
              "\n",
              "    .dataframe thead th {\n",
              "        text-align: right;\n",
              "    }\n",
              "<\/style>\n",
              "<table border=\"1\" class=\"dataframe\">\n",
              "  <thead>\n",
              "    <tr style=\"text-align: right;\">\n",
              "      <th><\/th>\n",
              "      <th>Row ID<\/th>\n",
              "      <th>Order ID<\/th>\n",
              "      <th>Order Date<\/th>\n",
              "      <th>Ship Date<\/th>\n",
              "      <th>Ship Mode<\/th>\n",
              "      <th>Customer ID<\/th>\n",
              "      <th>Customer Name<\/th>\n",
              "      <th>Segment<\/th>\n",
              "      <th>Country\/Region<\/th>\n",
              "      <th>City<\/th>\n",
              "      <th>...<\/th>\n",
              "      <th>Postal Code<\/th>\n",
              "      <th>Region<\/th>\n",
              "      <th>Product ID<\/th>\n",
              "      <th>Category<\/th>\n",
              "      <th>Sub-Category<\/th>\n",
              "      <th>Product Name<\/th>\n",
              "      <th>Sales<\/th>\n",
              "      <th>Quantity<\/th>\n",
              "      <th>Discount<\/th>\n",
              "      <th>Profit<\/th>\n",
              "    <\/tr>\n",
              "  <\/thead>\n",
              "  <tbody>\n",
              "    <tr>\n",
              "      <th>0<\/th>\n",
              "      <td>1<\/td>\n",
              "      <td>CA-2019-152156<\/td>\n",
              "      <td>2019-11-08<\/td>\n",
              "      <td>2019-11-11<\/td>\n",
              "      <td>Second Class<\/td>\n",
              "      <td>CG-12520<\/td>\n",
              "      <td>Claire Gute<\/td>\n",
              "      <td>Consumer<\/td>\n",
              "      <td>United States<\/td>\n",
              "      <td>Henderson<\/td>\n",
              "      <td>...<\/td>\n",
              "      <td>42420.0<\/td>\n",
              "      <td>South<\/td>\n",
              "      <td>FUR-BO-10001798<\/td>\n",
              "      <td>Furniture<\/td>\n",
              "      <td>Bookcases<\/td>\n",
              "      <td>Bush Somerset Collection Bookcase<\/td>\n",
              "      <td>261.9600<\/td>\n",
              "      <td>2<\/td>\n",
              "      <td>0.00<\/td>\n",
              "      <td>41.9136<\/td>\n",
              "    <\/tr>\n",
              "    <tr>\n",
              "      <th>1<\/th>\n",
              "      <td>2<\/td>\n",
              "      <td>CA-2019-152156<\/td>\n",
              "      <td>2019-11-08<\/td>\n",
              "      <td>2019-11-11<\/td>\n",
              "      <td>Second Class<\/td>\n",
              "      <td>CG-12520<\/td>\n",
              "      <td>Claire Gute<\/td>\n",
              "      <td>Consumer<\/td>\n",
              "      <td>United States<\/td>\n",
              "      <td>Henderson<\/td>\n",
              "      <td>...<\/td>\n",
              "      <td>42420.0<\/td>\n",
              "      <td>South<\/td>\n",
              "      <td>FUR-CH-10000454<\/td>\n",
              "      <td>Furniture<\/td>\n",
              "      <td>Chairs<\/td>\n",
              "      <td>Hon Deluxe Fabric Upholstered Stacking Chairs,...<\/td>\n",
              "      <td>731.9400<\/td>\n",
              "      <td>3<\/td>\n",
              "      <td>0.00<\/td>\n",
              "      <td>219.5820<\/td>\n",
              "    <\/tr>\n",
              "    <tr>\n",
              "      <th>2<\/th>\n",
              "      <td>3<\/td>\n",
              "      <td>CA-2019-138688<\/td>\n",
              "      <td>2019-06-12<\/td>\n",
              "      <td>2019-06-16<\/td>\n",
              "      <td>Second Class<\/td>\n",
              "      <td>DV-13045<\/td>\n",
              "      <td>Darrin Van Huff<\/td>\n",
              "      <td>Corporate<\/td>\n",
              "      <td>United States<\/td>\n",
              "      <td>Los Angeles<\/td>\n",
              "      <td>...<\/td>\n",
              "      <td>90036.0<\/td>\n",
              "      <td>West<\/td>\n",
              "      <td>OFF-LA-10000240<\/td>\n",
              "      <td>Office Supplies<\/td>\n",
              "      <td>Labels<\/td>\n",
              "      <td>Self-Adhesive Address Labels for Typewriters b...<\/td>\n",
              "      <td>14.6200<\/td>\n",
              "      <td>2<\/td>\n",
              "      <td>0.00<\/td>\n",
              "      <td>6.8714<\/td>\n",
              "    <\/tr>\n",
              "    <tr>\n",
              "      <th>3<\/th>\n",
              "      <td>4<\/td>\n",
              "      <td>US-2018-108966<\/td>\n",
              "      <td>2018-10-11<\/td>\n",
              "      <td>2018-10-18<\/td>\n",
              "      <td>Standard Class<\/td>\n",
              "      <td>SO-20335<\/td>\n",
              "      <td>Sean O'Donnell<\/td>\n",
              "      <td>Consumer<\/td>\n",
              "      <td>United States<\/td>\n",
              "      <td>Fort Lauderdale<\/td>\n",
              "      <td>...<\/td>\n",
              "      <td>33311.0<\/td>\n",
              "      <td>South<\/td>\n",
              "      <td>FUR-TA-10000577<\/td>\n",
              "      <td>Furniture<\/td>\n",
              "      <td>Tables<\/td>\n",
              "      <td>Bretford CR4500 Series Slim Rectangular Table<\/td>\n",
              "      <td>957.5775<\/td>\n",
              "      <td>5<\/td>\n",
              "      <td>0.45<\/td>\n",
              "      <td>-383.0310<\/td>\n",
              "    <\/tr>\n",
              "    <tr>\n",
              "      <th>4<\/th>\n",
              "      <td>5<\/td>\n",
              "      <td>US-2018-108966<\/td>\n",
              "      <td>2018-10-11<\/td>\n",
              "      <td>2018-10-18<\/td>\n",
              "      <td>Standard Class<\/td>\n",
              "      <td>SO-20335<\/td>\n",
              "      <td>Sean O'Donnell<\/td>\n",
              "      <td>Consumer<\/td>\n",
              "      <td>United States<\/td>\n",
              "      <td>Fort Lauderdale<\/td>\n",
              "      <td>...<\/td>\n",
              "      <td>33311.0<\/td>\n",
              "      <td>South<\/td>\n",
              "      <td>OFF-ST-10000760<\/td>\n",
              "      <td>Office Supplies<\/td>\n",
              "      <td>Storage<\/td>\n",
              "      <td>Eldon Fold 'N Roll Cart System<\/td>\n",
              "      <td>22.3680<\/td>\n",
              "      <td>2<\/td>\n",
              "      <td>0.20<\/td>\n",
              "      <td>2.5164<\/td>\n",
              "    <\/tr>\n",
              "    <tr>\n",
              "      <th>5<\/th>\n",
              "      <td>6<\/td>\n",
              "      <td>CA-2017-115812<\/td>\n",
              "      <td>2017-06-09<\/td>\n",
              "      <td>2017-06-14<\/td>\n",
              "      <td>Standard Class<\/td>\n",
              "      <td>BH-11710<\/td>\n",
              "      <td>Brosina Hoffman<\/td>\n",
              "      <td>Consumer<\/td>\n",
              "      <td>United States<\/td>\n",
              "      <td>Los Angeles<\/td>\n",
              "      <td>...<\/td>\n",
              "      <td>90032.0<\/td>\n",
              "      <td>West<\/td>\n",
              "      <td>FUR-FU-10001487<\/td>\n",
              "      <td>Furniture<\/td>\n",
              "      <td>Furnishings<\/td>\n",
              "      <td>Eldon Expressions Wood and Plastic Desk Access...<\/td>\n",
              "      <td>48.8600<\/td>\n",
              "      <td>7<\/td>\n",
              "      <td>0.00<\/td>\n",
              "      <td>14.1694<\/td>\n",
              "    <\/tr>\n",
              "    <tr>\n",
              "      <th>6<\/th>\n",
              "      <td>7<\/td>\n",
              "      <td>CA-2017-115812<\/td>\n",
              "      <td>2017-06-09<\/td>\n",
              "      <td>2017-06-14<\/td>\n",
              "      <td>Standard Class<\/td>\n",
              "      <td>BH-11710<\/td>\n",
              "      <td>Brosina Hoffman<\/td>\n",
              "      <td>Consumer<\/td>\n",
              "      <td>United States<\/td>\n",
              "      <td>Los Angeles<\/td>\n",
              "      <td>...<\/td>\n",
              "      <td>90032.0<\/td>\n",
              "      <td>West<\/td>\n",
              "      <td>OFF-AR-10002833<\/td>\n",
              "      <td>Office Supplies<\/td>\n",
              "      <td>Art<\/td>\n",
              "      <td>Newell 322<\/td>\n",
              "      <td>7.2800<\/td>\n",
              "      <td>4<\/td>\n",
              "      <td>0.00<\/td>\n",
              "      <td>1.9656<\/td>\n",
              "    <\/tr>\n",
              "  <\/tbody>\n",
              "<\/table>\n",
              "<p>7 rows × 21 columns<\/p>\n",
              "<\/div>"
            ]
          },
          "metadata":{
            
          },
          "output_type":"display_data"
        }
      ],
      "metadata":{
        "jupyter":{
          "source_hidden":false,
          "outputs_hidden":false
        },
        "datalore":{
          "type":"CODE",
          "sheet_delimiter":false
        }
      }
    },
    {
      "cell_type":"code",
      "source":[
        "# TODO - count nan in postal code column\n",
        "print('nan in postal code column is',df['Postal Code'].isna().sum())"
      ],
      "execution_count":8,
      "outputs":[
        {
          "name":"stdout",
          "text":[
            "nan in postal code column is 11\n"
          ],
          "output_type":"stream"
        }
      ],
      "metadata":{
        "jupyter":{
          "source_hidden":false,
          "outputs_hidden":false
        },
        "datalore":{
          "type":"CODE",
          "sheet_delimiter":false
        }
      }
    },
    {
      "cell_type":"code",
      "source":[
        "# TODO - filter rows with missing values\n",
        "df[df.isna().any(axis=1)]"
      ],
      "execution_count":31,
      "outputs":[
        {
          "data":{
            "text\/html":[
              "<div>\n",
              "<style scoped>\n",
              "    .dataframe tbody tr th:only-of-type {\n",
              "        vertical-align: middle;\n",
              "    }\n",
              "\n",
              "    .dataframe tbody tr th {\n",
              "        vertical-align: top;\n",
              "    }\n",
              "\n",
              "    .dataframe thead th {\n",
              "        text-align: right;\n",
              "    }\n",
              "<\/style>\n",
              "<table border=\"1\" class=\"dataframe\">\n",
              "  <thead>\n",
              "    <tr style=\"text-align: right;\">\n",
              "      <th><\/th>\n",
              "      <th>Row ID<\/th>\n",
              "      <th>Order ID<\/th>\n",
              "      <th>Order Date<\/th>\n",
              "      <th>Ship Date<\/th>\n",
              "      <th>Ship Mode<\/th>\n",
              "      <th>Customer ID<\/th>\n",
              "      <th>Customer Name<\/th>\n",
              "      <th>Segment<\/th>\n",
              "      <th>Country\/Region<\/th>\n",
              "      <th>City<\/th>\n",
              "      <th>...<\/th>\n",
              "      <th>Postal Code<\/th>\n",
              "      <th>Region<\/th>\n",
              "      <th>Product ID<\/th>\n",
              "      <th>Category<\/th>\n",
              "      <th>Sub-Category<\/th>\n",
              "      <th>Product Name<\/th>\n",
              "      <th>Sales<\/th>\n",
              "      <th>Quantity<\/th>\n",
              "      <th>Discount<\/th>\n",
              "      <th>Profit<\/th>\n",
              "    <\/tr>\n",
              "  <\/thead>\n",
              "  <tbody>\n",
              "    <tr>\n",
              "      <th>2234<\/th>\n",
              "      <td>2235<\/td>\n",
              "      <td>CA-2020-104066<\/td>\n",
              "      <td>2020-12-05<\/td>\n",
              "      <td>2020-12-10<\/td>\n",
              "      <td>Standard Class<\/td>\n",
              "      <td>QJ-19255<\/td>\n",
              "      <td>Quincy Jones<\/td>\n",
              "      <td>Corporate<\/td>\n",
              "      <td>United States<\/td>\n",
              "      <td>Burlington<\/td>\n",
              "      <td>...<\/td>\n",
              "      <td>NaN<\/td>\n",
              "      <td>East<\/td>\n",
              "      <td>TEC-AC-10001013<\/td>\n",
              "      <td>Technology<\/td>\n",
              "      <td>Accessories<\/td>\n",
              "      <td>Logitech ClearChat Comfort\/USB Headset H390<\/td>\n",
              "      <td>205.03<\/td>\n",
              "      <td>7<\/td>\n",
              "      <td>0.0<\/td>\n",
              "      <td>67.6599<\/td>\n",
              "    <\/tr>\n",
              "    <tr>\n",
              "      <th>5274<\/th>\n",
              "      <td>5275<\/td>\n",
              "      <td>CA-2018-162887<\/td>\n",
              "      <td>2018-11-07<\/td>\n",
              "      <td>2018-11-09<\/td>\n",
              "      <td>Second Class<\/td>\n",
              "      <td>SV-20785<\/td>\n",
              "      <td>Stewart Visinsky<\/td>\n",
              "      <td>Consumer<\/td>\n",
              "      <td>United States<\/td>\n",
              "      <td>Burlington<\/td>\n",
              "      <td>...<\/td>\n",
              "      <td>NaN<\/td>\n",
              "      <td>East<\/td>\n",
              "      <td>FUR-CH-10000595<\/td>\n",
              "      <td>Furniture<\/td>\n",
              "      <td>Chairs<\/td>\n",
              "      <td>Safco Contoured Stacking Chairs<\/td>\n",
              "      <td>715.20<\/td>\n",
              "      <td>3<\/td>\n",
              "      <td>0.0<\/td>\n",
              "      <td>178.8000<\/td>\n",
              "    <\/tr>\n",
              "    <tr>\n",
              "      <th>8798<\/th>\n",
              "      <td>8799<\/td>\n",
              "      <td>US-2019-150140<\/td>\n",
              "      <td>2019-04-06<\/td>\n",
              "      <td>2019-04-10<\/td>\n",
              "      <td>Standard Class<\/td>\n",
              "      <td>VM-21685<\/td>\n",
              "      <td>Valerie Mitchum<\/td>\n",
              "      <td>Home Office<\/td>\n",
              "      <td>United States<\/td>\n",
              "      <td>Burlington<\/td>\n",
              "      <td>...<\/td>\n",
              "      <td>NaN<\/td>\n",
              "      <td>East<\/td>\n",
              "      <td>TEC-PH-10002555<\/td>\n",
              "      <td>Technology<\/td>\n",
              "      <td>Phones<\/td>\n",
              "      <td>Nortel Meridian M5316 Digital phone<\/td>\n",
              "      <td>1294.75<\/td>\n",
              "      <td>5<\/td>\n",
              "      <td>0.0<\/td>\n",
              "      <td>336.6350<\/td>\n",
              "    <\/tr>\n",
              "    <tr>\n",
              "      <th>9146<\/th>\n",
              "      <td>9147<\/td>\n",
              "      <td>US-2019-165505<\/td>\n",
              "      <td>2019-01-23<\/td>\n",
              "      <td>2019-01-27<\/td>\n",
              "      <td>Standard Class<\/td>\n",
              "      <td>CB-12535<\/td>\n",
              "      <td>Claudia Bergmann<\/td>\n",
              "      <td>Corporate<\/td>\n",
              "      <td>United States<\/td>\n",
              "      <td>Burlington<\/td>\n",
              "      <td>...<\/td>\n",
              "      <td>NaN<\/td>\n",
              "      <td>East<\/td>\n",
              "      <td>TEC-AC-10002926<\/td>\n",
              "      <td>Technology<\/td>\n",
              "      <td>Accessories<\/td>\n",
              "      <td>Logitech Wireless Marathon Mouse M705<\/td>\n",
              "      <td>99.98<\/td>\n",
              "      <td>2<\/td>\n",
              "      <td>0.0<\/td>\n",
              "      <td>42.9914<\/td>\n",
              "    <\/tr>\n",
              "    <tr>\n",
              "      <th>9147<\/th>\n",
              "      <td>9148<\/td>\n",
              "      <td>US-2019-165505<\/td>\n",
              "      <td>2019-01-23<\/td>\n",
              "      <td>2019-01-27<\/td>\n",
              "      <td>Standard Class<\/td>\n",
              "      <td>CB-12535<\/td>\n",
              "      <td>Claudia Bergmann<\/td>\n",
              "      <td>Corporate<\/td>\n",
              "      <td>United States<\/td>\n",
              "      <td>Burlington<\/td>\n",
              "      <td>...<\/td>\n",
              "      <td>NaN<\/td>\n",
              "      <td>East<\/td>\n",
              "      <td>OFF-AR-10003477<\/td>\n",
              "      <td>Office Supplies<\/td>\n",
              "      <td>Art<\/td>\n",
              "      <td>4009 Highlighters<\/td>\n",
              "      <td>8.04<\/td>\n",
              "      <td>6<\/td>\n",
              "      <td>0.0<\/td>\n",
              "      <td>2.7336<\/td>\n",
              "    <\/tr>\n",
              "    <tr>\n",
              "      <th>9148<\/th>\n",
              "      <td>9149<\/td>\n",
              "      <td>US-2019-165505<\/td>\n",
              "      <td>2019-01-23<\/td>\n",
              "      <td>2019-01-27<\/td>\n",
              "      <td>Standard Class<\/td>\n",
              "      <td>CB-12535<\/td>\n",
              "      <td>Claudia Bergmann<\/td>\n",
              "      <td>Corporate<\/td>\n",
              "      <td>United States<\/td>\n",
              "      <td>Burlington<\/td>\n",
              "      <td>...<\/td>\n",
              "      <td>NaN<\/td>\n",
              "      <td>East<\/td>\n",
              "      <td>OFF-ST-10001526<\/td>\n",
              "      <td>Office Supplies<\/td>\n",
              "      <td>Storage<\/td>\n",
              "      <td>Iceberg Mobile Mega Data\/Printer Cart<\/td>\n",
              "      <td>1564.29<\/td>\n",
              "      <td>13<\/td>\n",
              "      <td>0.0<\/td>\n",
              "      <td>406.7154<\/td>\n",
              "    <\/tr>\n",
              "    <tr>\n",
              "      <th>9386<\/th>\n",
              "      <td>9387<\/td>\n",
              "      <td>US-2020-127292<\/td>\n",
              "      <td>2020-01-19<\/td>\n",
              "      <td>2020-01-23<\/td>\n",
              "      <td>Standard Class<\/td>\n",
              "      <td>RM-19375<\/td>\n",
              "      <td>Raymond Messe<\/td>\n",
              "      <td>Consumer<\/td>\n",
              "      <td>United States<\/td>\n",
              "      <td>Burlington<\/td>\n",
              "      <td>...<\/td>\n",
              "      <td>NaN<\/td>\n",
              "      <td>East<\/td>\n",
              "      <td>OFF-PA-10000157<\/td>\n",
              "      <td>Office Supplies<\/td>\n",
              "      <td>Paper<\/td>\n",
              "      <td>Xerox 191<\/td>\n",
              "      <td>79.92<\/td>\n",
              "      <td>4<\/td>\n",
              "      <td>0.0<\/td>\n",
              "      <td>37.5624<\/td>\n",
              "    <\/tr>\n",
              "    <tr>\n",
              "      <th>9387<\/th>\n",
              "      <td>9388<\/td>\n",
              "      <td>US-2020-127292<\/td>\n",
              "      <td>2020-01-19<\/td>\n",
              "      <td>2020-01-23<\/td>\n",
              "      <td>Standard Class<\/td>\n",
              "      <td>RM-19375<\/td>\n",
              "      <td>Raymond Messe<\/td>\n",
              "      <td>Consumer<\/td>\n",
              "      <td>United States<\/td>\n",
              "      <td>Burlington<\/td>\n",
              "      <td>...<\/td>\n",
              "      <td>NaN<\/td>\n",
              "      <td>East<\/td>\n",
              "      <td>OFF-PA-10001970<\/td>\n",
              "      <td>Office Supplies<\/td>\n",
              "      <td>Paper<\/td>\n",
              "      <td>Xerox 1881<\/td>\n",
              "      <td>12.28<\/td>\n",
              "      <td>1<\/td>\n",
              "      <td>0.0<\/td>\n",
              "      <td>5.7716<\/td>\n",
              "    <\/tr>\n",
              "    <tr>\n",
              "      <th>9388<\/th>\n",
              "      <td>9389<\/td>\n",
              "      <td>US-2020-127292<\/td>\n",
              "      <td>2020-01-19<\/td>\n",
              "      <td>2020-01-23<\/td>\n",
              "      <td>Standard Class<\/td>\n",
              "      <td>RM-19375<\/td>\n",
              "      <td>Raymond Messe<\/td>\n",
              "      <td>Consumer<\/td>\n",
              "      <td>United States<\/td>\n",
              "      <td>Burlington<\/td>\n",
              "      <td>...<\/td>\n",
              "      <td>NaN<\/td>\n",
              "      <td>East<\/td>\n",
              "      <td>OFF-AP-10000828<\/td>\n",
              "      <td>Office Supplies<\/td>\n",
              "      <td>Appliances<\/td>\n",
              "      <td>Avanti 4.4 Cu. Ft. Refrigerator<\/td>\n",
              "      <td>542.94<\/td>\n",
              "      <td>3<\/td>\n",
              "      <td>0.0<\/td>\n",
              "      <td>152.0232<\/td>\n",
              "    <\/tr>\n",
              "    <tr>\n",
              "      <th>9389<\/th>\n",
              "      <td>9390<\/td>\n",
              "      <td>US-2020-127292<\/td>\n",
              "      <td>2020-01-19<\/td>\n",
              "      <td>2020-01-23<\/td>\n",
              "      <td>Standard Class<\/td>\n",
              "      <td>RM-19375<\/td>\n",
              "      <td>Raymond Messe<\/td>\n",
              "      <td>Consumer<\/td>\n",
              "      <td>United States<\/td>\n",
              "      <td>Burlington<\/td>\n",
              "      <td>...<\/td>\n",
              "      <td>NaN<\/td>\n",
              "      <td>East<\/td>\n",
              "      <td>OFF-EN-10001509<\/td>\n",
              "      <td>Office Supplies<\/td>\n",
              "      <td>Envelopes<\/td>\n",
              "      <td>Poly String Tie Envelopes<\/td>\n",
              "      <td>2.04<\/td>\n",
              "      <td>1<\/td>\n",
              "      <td>0.0<\/td>\n",
              "      <td>0.9588<\/td>\n",
              "    <\/tr>\n",
              "    <tr>\n",
              "      <th>9741<\/th>\n",
              "      <td>9742<\/td>\n",
              "      <td>CA-2018-117086<\/td>\n",
              "      <td>2018-11-08<\/td>\n",
              "      <td>2018-11-12<\/td>\n",
              "      <td>Standard Class<\/td>\n",
              "      <td>QJ-19255<\/td>\n",
              "      <td>Quincy Jones<\/td>\n",
              "      <td>Corporate<\/td>\n",
              "      <td>United States<\/td>\n",
              "      <td>Burlington<\/td>\n",
              "      <td>...<\/td>\n",
              "      <td>NaN<\/td>\n",
              "      <td>East<\/td>\n",
              "      <td>FUR-BO-10004834<\/td>\n",
              "      <td>Furniture<\/td>\n",
              "      <td>Bookcases<\/td>\n",
              "      <td>Riverside Palais Royal Lawyers Bookcase, Royal...<\/td>\n",
              "      <td>4404.90<\/td>\n",
              "      <td>5<\/td>\n",
              "      <td>0.0<\/td>\n",
              "      <td>1013.1270<\/td>\n",
              "    <\/tr>\n",
              "  <\/tbody>\n",
              "<\/table>\n",
              "<p>11 rows × 21 columns<\/p>\n",
              "<\/div>"
            ]
          },
          "metadata":{
            
          },
          "output_type":"display_data"
        }
      ],
      "metadata":{
        "jupyter":{
          "source_hidden":false,
          "outputs_hidden":false
        },
        "datalore":{
          "type":"CODE",
          "sheet_delimiter":false
        }
      }
    },
    {
      "cell_type":"code",
      "source":[
        "# TODO - Explore this dataset on your owns, ask your own questions\n",
        "# count nan in all column\n",
        "df.isna().sum()"
      ],
      "execution_count":18,
      "outputs":[
        {
          "data":{
            "text\/html":[
              
            ]
          },
          "metadata":{
            
          },
          "output_type":"display_data"
        }
      ],
      "metadata":{
        "jupyter":{
          "source_hidden":false,
          "outputs_hidden":false
        },
        "datalore":{
          "type":"CODE",
          "sheet_delimiter":false
        }
      }
    },
    {
      "cell_type":"markdown",
      "source":[
        "## Data Analysis Part\n",
        "\n",
        "Answer 10 below questions to get credit from this course. Write `pandas` code to find answers."
      ],
      "attachments":{
        
      },
      "metadata":{
        "jupyter":{
          "source_hidden":false,
          "outputs_hidden":false
        },
        "datalore":{
          "type":"MD",
          "sheet_delimiter":false
        }
      }
    },
    {
      "cell_type":"code",
      "source":[
        "# TODO 01 - how many columns, rows in this dataset\n",
        "print('Dataset have',df.shape[0],'rows and',df.shape[1],'columns')"
      ],
      "execution_count":19,
      "outputs":[
        {
          "name":"stdout",
          "text":[
            "Dataset have 9994 rows and 21 columns\n"
          ],
          "output_type":"stream"
        }
      ],
      "metadata":{
        "jupyter":{
          "source_hidden":false,
          "outputs_hidden":false
        },
        "datalore":{
          "type":"CODE",
          "sheet_delimiter":false
        }
      }
    },
    {
      "cell_type":"code",
      "source":[
        "# TODO 02 - is there any missing values?, if there is, which colunm? how many nan values?\n",
        "# Yes\n",
        "df.isna().sum()"
      ],
      "execution_count":20,
      "outputs":[
        {
          "data":{
            "text\/html":[
              
            ]
          },
          "metadata":{
            
          },
          "output_type":"display_data"
        }
      ],
      "metadata":{
        "jupyter":{
          "source_hidden":false,
          "outputs_hidden":false
        },
        "datalore":{
          "type":"CODE",
          "sheet_delimiter":false
        }
      }
    },
    {
      "cell_type":"code",
      "source":[
        "# TODO 03 - your friend ask for `California` data, filter it and export csv for him\n",
        "# result_california = df.query(\"State == 'California'\")\n",
        "df_california = df[df['State'] == 'California']\n",
        "df_california.to_csv('df_california.csv')"
      ],
      "execution_count":32,
      "outputs":[
        
      ],
      "metadata":{
        "jupyter":{
          "source_hidden":false,
          "outputs_hidden":false
        },
        "datalore":{
          "type":"CODE",
          "sheet_delimiter":false
        }
      }
    },
    {
      "cell_type":"code",
      "source":[
        "groupby_date = df.groupby([df['Order Date'].dt.year]).count()\n",
        "groupby_date"
      ],
      "execution_count":0,
      "outputs":[
        
      ],
      "metadata":{
        "jupyter":{
          "source_hidden":false,
          "outputs_hidden":false
        },
        "datalore":{
          "type":"CODE",
          "sheet_delimiter":false
        }
      }
    },
    {
      "cell_type":"code",
      "source":[
        "# TODO 04 - your friend ask for all order data in `California` and `Texas` in 2017 (look at Order Date), send him csv file\n",
        "df_cal_tex_2017 = df[((df['State'] == 'California') | (df['State'] == 'Texas')) & (df['Order Date'].dt.year == 2017)]\n",
        "df_cal_tex_2017.to_csv('df_cal_tex_2017.csv')\n",
        "\n",
        "\n",
        "# example of code look clean\n",
        "# df.set_index('Order Date',inplace=True)\n",
        "# df_2017 = df.loc['2017']\n",
        "# mask1 = df_2017['State'] == 'California'\n",
        "# mask2 = df_2017['State'] == 'Texas'\n",
        "# df_2017[mask1 | mask2]"
      ],
      "execution_count":0,
      "outputs":[
        
      ],
      "metadata":{
        "jupyter":{
          "source_hidden":false,
          "outputs_hidden":false
        },
        "datalore":{
          "type":"CODE",
          "sheet_delimiter":false
        }
      }
    },
    {
      "cell_type":"code",
      "source":[
        "# TODO 05 - how much total sales, average sales, and standard deviation of sales your company make in 2017\n",
        "df_2017 = df[df['Order Date'].dt.year == 2017]\n",
        "round(df_2017['Sales'].agg(['sum','mean','std']), 4)\n",
        "\n",
        "\n",
        "# example of code look clean\n",
        "# df_2017['Sales'].agg(['mean','sum','std'])"
      ],
      "execution_count":46,
      "outputs":[
        {
          "data":{
            "text\/html":[
              
            ]
          },
          "metadata":{
            
          },
          "output_type":"display_data"
        }
      ],
      "metadata":{
        "jupyter":{
          "source_hidden":false,
          "outputs_hidden":false
        },
        "datalore":{
          "type":"CODE",
          "sheet_delimiter":false
        }
      }
    },
    {
      "cell_type":"code",
      "source":[
        "# TODO 06 - which Segment has the highest profit in 2018\n",
        "df_2018 = df[df['Order Date'].dt.year == 2018]\n",
        "df_2018.groupby('Segment')[\"Profit\"].agg('max') # Answer = Comsumer Segment Profit is 3177.475\n",
        "\n",
        "# example of code look clean\n",
        "# df.loc['2018'].groupby('Segment')['Profit'].sum()"
      ],
      "execution_count":49,
      "outputs":[
        {
          "data":{
            "text\/html":[
              
            ]
          },
          "metadata":{
            
          },
          "output_type":"display_data"
        }
      ],
      "metadata":{
        "jupyter":{
          "source_hidden":false,
          "outputs_hidden":false
        },
        "datalore":{
          "type":"CODE",
          "sheet_delimiter":false
        }
      }
    },
    {
      "cell_type":"code",
      "source":[
        "# TODO 07 - which top 5 States have the least total sales between 15 April 2019 - 31 December 2019\n",
        "df_apr_to_dec2019 = df[(df['Order Date'] >= '2019-4-15') & (df['Order Date'] <= '2019-12-31')]\n",
        "\n",
        "df_apr_to_dec2019.groupby('State')['Sales'].sum().sort_values().head().reset_index()\n",
        "\n",
        "\n",
        "# example of code look clean\n",
        "# df_2019 = df.loc['2019-04-15':'2019-12-31']\n",
        "# df_2019.groupby('State')['Sales'].sum().nsmallest(5)"
      ],
      "execution_count":53,
      "outputs":[
        {
          "data":{
            "text\/html":[
              "<div>\n",
              "<style scoped>\n",
              "    .dataframe tbody tr th:only-of-type {\n",
              "        vertical-align: middle;\n",
              "    }\n",
              "\n",
              "    .dataframe tbody tr th {\n",
              "        vertical-align: top;\n",
              "    }\n",
              "\n",
              "    .dataframe thead th {\n",
              "        text-align: right;\n",
              "    }\n",
              "<\/style>\n",
              "<table border=\"1\" class=\"dataframe\">\n",
              "  <thead>\n",
              "    <tr style=\"text-align: right;\">\n",
              "      <th><\/th>\n",
              "      <th>State<\/th>\n",
              "      <th>Sales<\/th>\n",
              "    <\/tr>\n",
              "  <\/thead>\n",
              "  <tbody>\n",
              "    <tr>\n",
              "      <th>0<\/th>\n",
              "      <td>New Hampshire<\/td>\n",
              "      <td>49.05<\/td>\n",
              "    <\/tr>\n",
              "    <tr>\n",
              "      <th>1<\/th>\n",
              "      <td>New Mexico<\/td>\n",
              "      <td>64.08<\/td>\n",
              "    <\/tr>\n",
              "    <tr>\n",
              "      <th>2<\/th>\n",
              "      <td>District of Columbia<\/td>\n",
              "      <td>117.07<\/td>\n",
              "    <\/tr>\n",
              "    <tr>\n",
              "      <th>3<\/th>\n",
              "      <td>Louisiana<\/td>\n",
              "      <td>249.80<\/td>\n",
              "    <\/tr>\n",
              "    <tr>\n",
              "      <th>4<\/th>\n",
              "      <td>South Carolina<\/td>\n",
              "      <td>502.48<\/td>\n",
              "    <\/tr>\n",
              "  <\/tbody>\n",
              "<\/table>\n",
              "<\/div>"
            ]
          },
          "metadata":{
            
          },
          "output_type":"display_data"
        }
      ],
      "metadata":{
        "jupyter":{
          "source_hidden":false,
          "outputs_hidden":false
        },
        "datalore":{
          "type":"CODE",
          "sheet_delimiter":false
        }
      }
    },
    {
      "cell_type":"code",
      "source":[
        "# TODO 08 - what is the proportion of total sales (%) in West + Central in 2019 e.g. 25%\n",
        "# df_2019 = df[df['Order Date'].dt.year == 2019]\n",
        "total_sale_2019 = df[df['Order Date'].dt.year == 2019]['Sales'].sum()\n",
        "total_sale_west_central = df[(df['Order Date'].dt.year == 2019) & (df['Region'].isin(['West','Central']))]['Sales'].sum()\n",
        "\n",
        "print(f\"Total Sales in 2019 = {total_sale_2019}\")\n",
        "print(f\"Sales of West and Central in 2019 = {total_sale_west_central}\")\n",
        "print(f\"The proportion of total sales (%) in West + Central in 2019 = {(total_sale_west_central\/total_sale_2019)*100:1.2f}%\")\n",
        "\n",
        "\n",
        "# example of code look clean\n",
        "# total_sales = df.loc['2019','Sales'].sum()\n",
        "# df_total_sales = df.loc['2019'].groupby('Region')['Sales'].sum().apply(lambda x : (x\/total_sales)*100).to_frame('Sales')\n",
        "# df_total_sales.round(2).loc[['Central','West']].sum()"
      ],
      "execution_count":67,
      "outputs":[
        {
          "name":"stdout",
          "text":[
            "Total Sales in 2019 = 609205.598\n",
            "Sales of West and Central in 2019 = 334909.5525\n",
            "The proportion of total sales (%) in West + Central in 2019 = 54.97%\n"
          ],
          "output_type":"stream"
        }
      ],
      "metadata":{
        "jupyter":{
          "source_hidden":false,
          "outputs_hidden":false
        },
        "datalore":{
          "type":"CODE",
          "sheet_delimiter":false
        }
      }
    },
    {
      "cell_type":"code",
      "source":[
        "# TODO 09 - find top 10 popular products in terms of number of orders vs. total sales during 2019-2020\n",
        "\n",
        "df_sale_2019to2020 = df[df['Order Date'].dt.year.isin([2019,2020])] \\\n",
        "    .groupby('Product Name')['Sales'].sum().sort_values(ascending=False).reset_index().head(10).round(3)\n",
        "df_sale_2019to2020.columns = ['Product: Top Sales', 'Sales']\n",
        "\n",
        "df_orders_2019to2020 = df[df['Order Date'].dt.year.isin([2019,2020])]['Product Name'] \\\n",
        "    .value_counts().sort_values(ascending=False).reset_index().head(10)\n",
        "df_orders_2019to2020.columns = ['Product: Top Orders', 'Orders']\n",
        "\n",
        "df_result = pd.merge(df_orders_2019to2020, df_sale_2019to2020, left_index=True, right_index=True)\n",
        "df_result"
      ],
      "execution_count":83,
      "outputs":[
        {
          "data":{
            "text\/html":[
              "<div>\n",
              "<style scoped>\n",
              "    .dataframe tbody tr th:only-of-type {\n",
              "        vertical-align: middle;\n",
              "    }\n",
              "\n",
              "    .dataframe tbody tr th {\n",
              "        vertical-align: top;\n",
              "    }\n",
              "\n",
              "    .dataframe thead th {\n",
              "        text-align: right;\n",
              "    }\n",
              "<\/style>\n",
              "<table border=\"1\" class=\"dataframe\">\n",
              "  <thead>\n",
              "    <tr style=\"text-align: right;\">\n",
              "      <th><\/th>\n",
              "      <th>Product: Top Orders<\/th>\n",
              "      <th>Orders<\/th>\n",
              "      <th>Product: Top Sales<\/th>\n",
              "      <th>Sales<\/th>\n",
              "    <\/tr>\n",
              "  <\/thead>\n",
              "  <tbody>\n",
              "    <tr>\n",
              "      <th>0<\/th>\n",
              "      <td>Easy-staple paper<\/td>\n",
              "      <td>27<\/td>\n",
              "      <td>Canon imageCLASS 2200 Advanced Copier<\/td>\n",
              "      <td>61599.824<\/td>\n",
              "    <\/tr>\n",
              "    <tr>\n",
              "      <th>1<\/th>\n",
              "      <td>Staples<\/td>\n",
              "      <td>24<\/td>\n",
              "      <td>Hewlett Packard LaserJet 3310 Copier<\/td>\n",
              "      <td>16079.732<\/td>\n",
              "    <\/tr>\n",
              "    <tr>\n",
              "      <th>2<\/th>\n",
              "      <td>Staple envelope<\/td>\n",
              "      <td>22<\/td>\n",
              "      <td>3D Systems Cube Printer, 2nd Generation, Magenta<\/td>\n",
              "      <td>14299.890<\/td>\n",
              "    <\/tr>\n",
              "    <tr>\n",
              "      <th>3<\/th>\n",
              "      <td>Staples in misc. colors<\/td>\n",
              "      <td>13<\/td>\n",
              "      <td>GBC Ibimaster 500 Manual ProClick Binding System<\/td>\n",
              "      <td>13621.542<\/td>\n",
              "    <\/tr>\n",
              "    <tr>\n",
              "      <th>4<\/th>\n",
              "      <td>Chromcraft Round Conference Tables<\/td>\n",
              "      <td>12<\/td>\n",
              "      <td>GBC DocuBind TL300 Electric Binding System<\/td>\n",
              "      <td>12737.258<\/td>\n",
              "    <\/tr>\n",
              "    <tr>\n",
              "      <th>5<\/th>\n",
              "      <td>Storex Dura Pro Binders<\/td>\n",
              "      <td>12<\/td>\n",
              "      <td>GBC DocuBind P400 Electric Binding System<\/td>\n",
              "      <td>12521.108<\/td>\n",
              "    <\/tr>\n",
              "    <tr>\n",
              "      <th>6<\/th>\n",
              "      <td>Staple remover<\/td>\n",
              "      <td>12<\/td>\n",
              "      <td>Samsung Galaxy Mega 6.3<\/td>\n",
              "      <td>12263.708<\/td>\n",
              "    <\/tr>\n",
              "    <tr>\n",
              "      <th>7<\/th>\n",
              "      <td>Global Wood Trimmed Manager's Task Chair, Khaki<\/td>\n",
              "      <td>11<\/td>\n",
              "      <td>HON 5400 Series Task Chairs for Big and Tall<\/td>\n",
              "      <td>11846.562<\/td>\n",
              "    <\/tr>\n",
              "    <tr>\n",
              "      <th>8<\/th>\n",
              "      <td>Avery Non-Stick Binders<\/td>\n",
              "      <td>11<\/td>\n",
              "      <td>Martin Yale Chadless Opener Electric Letter Op...<\/td>\n",
              "      <td>11825.902<\/td>\n",
              "    <\/tr>\n",
              "    <tr>\n",
              "      <th>9<\/th>\n",
              "      <td>Sterilite Officeware Hinged File Box<\/td>\n",
              "      <td>10<\/td>\n",
              "      <td>Global Troy Executive Leather Low-Back Tilter<\/td>\n",
              "      <td>10169.894<\/td>\n",
              "    <\/tr>\n",
              "  <\/tbody>\n",
              "<\/table>\n",
              "<\/div>"
            ]
          },
          "metadata":{
            
          },
          "output_type":"display_data"
        }
      ],
      "metadata":{
        "jupyter":{
          "source_hidden":false,
          "outputs_hidden":false
        },
        "datalore":{
          "type":"CODE",
          "sheet_delimiter":false
        }
      }
    },
    {
      "cell_type":"code",
      "source":[
        "# TODO 10 - plot at least 2 plots, any plot you think interesting :)\n",
        "# example of code look clean\n",
        "df_origin = df.reset_index().copy()\n",
        "df_2019_2020 = df_origin[df_origin['Order Date'] >='2019']\n",
        "pop_product_order = df_2019_2020.groupby('Product Name')['Order ID'].count().nlargest(10)\n",
        "\n",
        "\n",
        "pop_product_order.plot(kind='bar', color='salmon')"
      ],
      "execution_count":91,
      "outputs":[
        {
          "data":{
            "text\/plain":[
              "<AxesSubplot:xlabel='Product Name'>"
            ],
            "image\/png":"[encoded data removed]"
          },
          "metadata":{
            "image\/png":{
              
            }
          },
          "output_type":"display_data"
        }
      ],
      "metadata":{
        "jupyter":{
          "source_hidden":false,
          "outputs_hidden":false
        },
        "datalore":{
          "type":"CODE",
          "sheet_delimiter":false
        }
      }
    },
    {
      "cell_type":"code",
      "source":[
        "# TODO 10.1 - plot at least 2 plots, any plot you think interesting :)\n",
        "# example of code look clean\n",
        "df_origin = df.reset_index().copy()\n",
        "df_2019_2020 = df_origin[df_origin['Order Date'] >='2019']\n",
        "pop_product_sales = df_2019_2020.groupby('Product Name')['Sales'].sum().nlargest(10)\n",
        "\n",
        "\n",
        "pop_product_sales.plot(kind='bar', color='salmon')"
      ],
      "execution_count":89,
      "outputs":[
        {
          "data":{
            "text\/plain":[
              "<AxesSubplot:xlabel='Product Name'>"
            ],
            "image\/png":"[encoded data removed]"
          },
          "metadata":{
            "image\/png":{
              
            }
          },
          "output_type":"display_data"
        }
      ],
      "metadata":{
        "jupyter":{
          "source_hidden":false,
          "outputs_hidden":false
        },
        "datalore":{
          "type":"CODE",
          "sheet_delimiter":false
        }
      }
    },
    {
      "cell_type":"code",
      "source":[
        "# TODO Bonus - use np.where() to create new column in dataframe to help you answer your own questions\n",
        "import numpy as np\n",
        "\n",
        "df_2019_2020['Quality Product'] = np.where(df_2019_2020.Profit > 20,'Great','Normal')\n",
        "df_2019_2020"
      ],
      "execution_count":93,
      "outputs":[
        {
          "name":"stderr",
          "text":[
            "<ipython-input-93-383fb0687a1d>:4: SettingWithCopyWarning: \n",
            "A value is trying to be set on a copy of a slice from a DataFrame.\n",
            "Try using .loc[row_indexer,col_indexer] = value instead\n",
            "\n",
            "See the caveats in the documentation: https:\/\/pandas.pydata.org\/pandas-docs\/stable\/user_guide\/indexing.html#returning-a-view-versus-a-copy\n",
            "  df_2019_2020['Quality Product'] = np.where(df_2019_2020.Profit > 20,'Great','Normal')\n"
          ],
          "output_type":"stream"
        },
        {
          "data":{
            "text\/html":[
              "<div>\n",
              "<style scoped>\n",
              "    .dataframe tbody tr th:only-of-type {\n",
              "        vertical-align: middle;\n",
              "    }\n",
              "\n",
              "    .dataframe tbody tr th {\n",
              "        vertical-align: top;\n",
              "    }\n",
              "\n",
              "    .dataframe thead th {\n",
              "        text-align: right;\n",
              "    }\n",
              "<\/style>\n",
              "<table border=\"1\" class=\"dataframe\">\n",
              "  <thead>\n",
              "    <tr style=\"text-align: right;\">\n",
              "      <th><\/th>\n",
              "      <th>index<\/th>\n",
              "      <th>Row ID<\/th>\n",
              "      <th>Order ID<\/th>\n",
              "      <th>Order Date<\/th>\n",
              "      <th>Ship Date<\/th>\n",
              "      <th>Ship Mode<\/th>\n",
              "      <th>Customer ID<\/th>\n",
              "      <th>Customer Name<\/th>\n",
              "      <th>Segment<\/th>\n",
              "      <th>Country\/Region<\/th>\n",
              "      <th>...<\/th>\n",
              "      <th>Region<\/th>\n",
              "      <th>Product ID<\/th>\n",
              "      <th>Category<\/th>\n",
              "      <th>Sub-Category<\/th>\n",
              "      <th>Product Name<\/th>\n",
              "      <th>Sales<\/th>\n",
              "      <th>Quantity<\/th>\n",
              "      <th>Discount<\/th>\n",
              "      <th>Profit<\/th>\n",
              "      <th>Quality Product<\/th>\n",
              "    <\/tr>\n",
              "  <\/thead>\n",
              "  <tbody>\n",
              "    <tr>\n",
              "      <th>0<\/th>\n",
              "      <td>0<\/td>\n",
              "      <td>1<\/td>\n",
              "      <td>CA-2019-152156<\/td>\n",
              "      <td>2019-11-08<\/td>\n",
              "      <td>2019-11-11<\/td>\n",
              "      <td>Second Class<\/td>\n",
              "      <td>CG-12520<\/td>\n",
              "      <td>Claire Gute<\/td>\n",
              "      <td>Consumer<\/td>\n",
              "      <td>United States<\/td>\n",
              "      <td>...<\/td>\n",
              "      <td>South<\/td>\n",
              "      <td>FUR-BO-10001798<\/td>\n",
              "      <td>Furniture<\/td>\n",
              "      <td>Bookcases<\/td>\n",
              "      <td>Bush Somerset Collection Bookcase<\/td>\n",
              "      <td>261.960<\/td>\n",
              "      <td>2<\/td>\n",
              "      <td>0.0<\/td>\n",
              "      <td>41.9136<\/td>\n",
              "      <td>Great<\/td>\n",
              "    <\/tr>\n",
              "    <tr>\n",
              "      <th>1<\/th>\n",
              "      <td>1<\/td>\n",
              "      <td>2<\/td>\n",
              "      <td>CA-2019-152156<\/td>\n",
              "      <td>2019-11-08<\/td>\n",
              "      <td>2019-11-11<\/td>\n",
              "      <td>Second Class<\/td>\n",
              "      <td>CG-12520<\/td>\n",
              "      <td>Claire Gute<\/td>\n",
              "      <td>Consumer<\/td>\n",
              "      <td>United States<\/td>\n",
              "      <td>...<\/td>\n",
              "      <td>South<\/td>\n",
              "      <td>FUR-CH-10000454<\/td>\n",
              "      <td>Furniture<\/td>\n",
              "      <td>Chairs<\/td>\n",
              "      <td>Hon Deluxe Fabric Upholstered Stacking Chairs,...<\/td>\n",
              "      <td>731.940<\/td>\n",
              "      <td>3<\/td>\n",
              "      <td>0.0<\/td>\n",
              "      <td>219.5820<\/td>\n",
              "      <td>Great<\/td>\n",
              "    <\/tr>\n",
              "    <tr>\n",
              "      <th>2<\/th>\n",
              "      <td>2<\/td>\n",
              "      <td>3<\/td>\n",
              "      <td>CA-2019-138688<\/td>\n",
              "      <td>2019-06-12<\/td>\n",
              "      <td>2019-06-16<\/td>\n",
              "      <td>Second Class<\/td>\n",
              "      <td>DV-13045<\/td>\n",
              "      <td>Darrin Van Huff<\/td>\n",
              "      <td>Corporate<\/td>\n",
              "      <td>United States<\/td>\n",
              "      <td>...<\/td>\n",
              "      <td>West<\/td>\n",
              "      <td>OFF-LA-10000240<\/td>\n",
              "      <td>Office Supplies<\/td>\n",
              "      <td>Labels<\/td>\n",
              "      <td>Self-Adhesive Address Labels for Typewriters b...<\/td>\n",
              "      <td>14.620<\/td>\n",
              "      <td>2<\/td>\n",
              "      <td>0.0<\/td>\n",
              "      <td>6.8714<\/td>\n",
              "      <td>Normal<\/td>\n",
              "    <\/tr>\n",
              "    <tr>\n",
              "      <th>12<\/th>\n",
              "      <td>12<\/td>\n",
              "      <td>13<\/td>\n",
              "      <td>CA-2020-114412<\/td>\n",
              "      <td>2020-04-15<\/td>\n",
              "      <td>2020-04-20<\/td>\n",
              "      <td>Standard Class<\/td>\n",
              "      <td>AA-10480<\/td>\n",
              "      <td>Andrew Allen<\/td>\n",
              "      <td>Consumer<\/td>\n",
              "      <td>United States<\/td>\n",
              "      <td>...<\/td>\n",
              "      <td>South<\/td>\n",
              "      <td>OFF-PA-10002365<\/td>\n",
              "      <td>Office Supplies<\/td>\n",
              "      <td>Paper<\/td>\n",
              "      <td>Xerox 1967<\/td>\n",
              "      <td>15.552<\/td>\n",
              "      <td>3<\/td>\n",
              "      <td>0.2<\/td>\n",
              "      <td>5.4432<\/td>\n",
              "      <td>Normal<\/td>\n",
              "    <\/tr>\n",
              "    <tr>\n",
              "      <th>13<\/th>\n",
              "      <td>13<\/td>\n",
              "      <td>14<\/td>\n",
              "      <td>CA-2019-161389<\/td>\n",
              "      <td>2019-12-05<\/td>\n",
              "      <td>2019-12-10<\/td>\n",
              "      <td>Standard Class<\/td>\n",
              "      <td>IM-15070<\/td>\n",
              "      <td>Irene Maddox<\/td>\n",
              "      <td>Consumer<\/td>\n",
              "      <td>United States<\/td>\n",
              "      <td>...<\/td>\n",
              "      <td>West<\/td>\n",
              "      <td>OFF-BI-10003656<\/td>\n",
              "      <td>Office Supplies<\/td>\n",
              "      <td>Binders<\/td>\n",
              "      <td>Fellowes PB200 Plastic Comb Binding Machine<\/td>\n",
              "      <td>407.976<\/td>\n",
              "      <td>3<\/td>\n",
              "      <td>0.2<\/td>\n",
              "      <td>132.5922<\/td>\n",
              "      <td>Great<\/td>\n",
              "    <\/tr>\n",
              "    <tr>\n",
              "      <th>...<\/th>\n",
              "      <td>...<\/td>\n",
              "      <td>...<\/td>\n",
              "      <td>...<\/td>\n",
              "      <td>...<\/td>\n",
              "      <td>...<\/td>\n",
              "      <td>...<\/td>\n",
              "      <td>...<\/td>\n",
              "      <td>...<\/td>\n",
              "      <td>...<\/td>\n",
              "      <td>...<\/td>\n",
              "      <td>...<\/td>\n",
              "      <td>...<\/td>\n",
              "      <td>...<\/td>\n",
              "      <td>...<\/td>\n",
              "      <td>...<\/td>\n",
              "      <td>...<\/td>\n",
              "      <td>...<\/td>\n",
              "      <td>...<\/td>\n",
              "      <td>...<\/td>\n",
              "      <td>...<\/td>\n",
              "      <td>...<\/td>\n",
              "    <\/tr>\n",
              "    <tr>\n",
              "      <th>9988<\/th>\n",
              "      <td>9988<\/td>\n",
              "      <td>9989<\/td>\n",
              "      <td>CA-2020-163629<\/td>\n",
              "      <td>2020-11-17<\/td>\n",
              "      <td>2020-11-21<\/td>\n",
              "      <td>Standard Class<\/td>\n",
              "      <td>RA-19885<\/td>\n",
              "      <td>Ruben Ausman<\/td>\n",
              "      <td>Corporate<\/td>\n",
              "      <td>United States<\/td>\n",
              "      <td>...<\/td>\n",
              "      <td>South<\/td>\n",
              "      <td>TEC-PH-10004006<\/td>\n",
              "      <td>Technology<\/td>\n",
              "      <td>Phones<\/td>\n",
              "      <td>Panasonic KX - TS880B Telephone<\/td>\n",
              "      <td>206.100<\/td>\n",
              "      <td>5<\/td>\n",
              "      <td>0.0<\/td>\n",
              "      <td>55.6470<\/td>\n",
              "      <td>Great<\/td>\n",
              "    <\/tr>\n",
              "    <tr>\n",
              "      <th>9990<\/th>\n",
              "      <td>9990<\/td>\n",
              "      <td>9991<\/td>\n",
              "      <td>CA-2020-121258<\/td>\n",
              "      <td>2020-02-26<\/td>\n",
              "      <td>2020-03-03<\/td>\n",
              "      <td>Standard Class<\/td>\n",
              "      <td>DB-13060<\/td>\n",
              "      <td>Dave Brooks<\/td>\n",
              "      <td>Consumer<\/td>\n",
              "      <td>United States<\/td>\n",
              "      <td>...<\/td>\n",
              "      <td>West<\/td>\n",
              "      <td>FUR-FU-10000747<\/td>\n",
              "      <td>Furniture<\/td>\n",
              "      <td>Furnishings<\/td>\n",
              "      <td>Tenex B1-RE Series Chair Mats for Low Pile Car...<\/td>\n",
              "      <td>91.960<\/td>\n",
              "      <td>2<\/td>\n",
              "      <td>0.0<\/td>\n",
              "      <td>15.6332<\/td>\n",
              "      <td>Normal<\/td>\n",
              "    <\/tr>\n",
              "    <tr>\n",
              "      <th>9991<\/th>\n",
              "      <td>9991<\/td>\n",
              "      <td>9992<\/td>\n",
              "      <td>CA-2020-121258<\/td>\n",
              "      <td>2020-02-26<\/td>\n",
              "      <td>2020-03-03<\/td>\n",
              "      <td>Standard Class<\/td>\n",
              "      <td>DB-13060<\/td>\n",
              "      <td>Dave Brooks<\/td>\n",
              "      <td>Consumer<\/td>\n",
              "      <td>United States<\/td>\n",
              "      <td>...<\/td>\n",
              "      <td>West<\/td>\n",
              "      <td>TEC-PH-10003645<\/td>\n",
              "      <td>Technology<\/td>\n",
              "      <td>Phones<\/td>\n",
              "      <td>Aastra 57i VoIP phone<\/td>\n",
              "      <td>258.576<\/td>\n",
              "      <td>2<\/td>\n",
              "      <td>0.2<\/td>\n",
              "      <td>19.3932<\/td>\n",
              "      <td>Normal<\/td>\n",
              "    <\/tr>\n",
              "    <tr>\n",
              "      <th>9992<\/th>\n",
              "      <td>9992<\/td>\n",
              "      <td>9993<\/td>\n",
              "      <td>CA-2020-121258<\/td>\n",
              "      <td>2020-02-26<\/td>\n",
              "      <td>2020-03-03<\/td>\n",
              "      <td>Standard Class<\/td>\n",
              "      <td>DB-13060<\/td>\n",
              "      <td>Dave Brooks<\/td>\n",
              "      <td>Consumer<\/td>\n",
              "      <td>United States<\/td>\n",
              "      <td>...<\/td>\n",
              "      <td>West<\/td>\n",
              "      <td>OFF-PA-10004041<\/td>\n",
              "      <td>Office Supplies<\/td>\n",
              "      <td>Paper<\/td>\n",
              "      <td>It's Hot Message Books with Stickers, 2 3\/4\" x 5\"<\/td>\n",
              "      <td>29.600<\/td>\n",
              "      <td>4<\/td>\n",
              "      <td>0.0<\/td>\n",
              "      <td>13.3200<\/td>\n",
              "      <td>Normal<\/td>\n",
              "    <\/tr>\n",
              "    <tr>\n",
              "      <th>9993<\/th>\n",
              "      <td>9993<\/td>\n",
              "      <td>9994<\/td>\n",
              "      <td>CA-2020-119914<\/td>\n",
              "      <td>2020-05-04<\/td>\n",
              "      <td>2020-05-09<\/td>\n",
              "      <td>Second Class<\/td>\n",
              "      <td>CC-12220<\/td>\n",
              "      <td>Chris Cortes<\/td>\n",
              "      <td>Consumer<\/td>\n",
              "      <td>United States<\/td>\n",
              "      <td>...<\/td>\n",
              "      <td>West<\/td>\n",
              "      <td>OFF-AP-10002684<\/td>\n",
              "      <td>Office Supplies<\/td>\n",
              "      <td>Appliances<\/td>\n",
              "      <td>Acco 7-Outlet Masterpiece Power Center, Wihtou...<\/td>\n",
              "      <td>243.160<\/td>\n",
              "      <td>2<\/td>\n",
              "      <td>0.0<\/td>\n",
              "      <td>72.9480<\/td>\n",
              "      <td>Great<\/td>\n",
              "    <\/tr>\n",
              "  <\/tbody>\n",
              "<\/table>\n",
              "<p>5899 rows × 23 columns<\/p>\n",
              "<\/div>"
            ]
          },
          "metadata":{
            
          },
          "output_type":"display_data"
        }
      ],
      "metadata":{
        "jupyter":{
          "source_hidden":false,
          "outputs_hidden":false
        },
        "datalore":{
          "type":"CODE",
          "sheet_delimiter":false
        }
      }
    },
    {
      "cell_type":"code",
      "source":[
        
      ],
      "execution_count":0,
      "outputs":[
        
      ],
      "metadata":{
        "jupyter":{
          "source_hidden":false,
          "outputs_hidden":false
        },
        "datalore":{
          "type":"CODE",
          "sheet_delimiter":false
        }
      }
    }
  ],
  "metadata":{
    "datalore":{
      "version":1,
      "computation_mode":"JUPYTER",
      "package_manager":"pip",
      "base_environment":"default",
      "packages":[
        
      ]
    }
  },
  "nbformat":4,
  "nbformat_minor":4
}